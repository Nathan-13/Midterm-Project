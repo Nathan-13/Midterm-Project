{
 "cells": [
  {
   "cell_type": "markdown",
   "id": "94a4a41b-f7b6-4fc8-aab9-654fa110ddf9",
   "metadata": {},
   "source": [
    "Build a regression model."
   ]
  },
  {
   "cell_type": "code",
   "execution_count": 9,
   "id": "9ac1b2bb-8ec4-4ab8-a325-15dae203b84f",
   "metadata": {},
   "outputs": [],
   "source": [
    "# import libraries\n",
    "\n",
    "import matplotlib.pyplot as plt\n",
    "import numpy as np\n",
    "import pandas as pd\n",
    "import seaborn as sns\n",
    "import statsmodels.api as sm\n",
    "from sklearn import datasets, linear_model, model_selection\n",
    "from sklearn.model_selection import train_test_split\n",
    "from sklearn.linear_model import LinearRegression\n",
    "from sklearn.metrics import mean_squared_error, r2_score\n",
    "import csv"
   ]
  },
  {
   "cell_type": "code",
   "execution_count": 10,
   "id": "772c7596",
   "metadata": {},
   "outputs": [
    {
     "data": {
      "text/html": [
       "<div>\n",
       "<style scoped>\n",
       "    .dataframe tbody tr th:only-of-type {\n",
       "        vertical-align: middle;\n",
       "    }\n",
       "\n",
       "    .dataframe tbody tr th {\n",
       "        vertical-align: top;\n",
       "    }\n",
       "\n",
       "    .dataframe thead th {\n",
       "        text-align: right;\n",
       "    }\n",
       "</style>\n",
       "<table border=\"1\" class=\"dataframe\">\n",
       "  <thead>\n",
       "    <tr style=\"text-align: right;\">\n",
       "      <th></th>\n",
       "      <th>ID</th>\n",
       "      <th>Origin</th>\n",
       "      <th>Destination</th>\n",
       "      <th>Origin_City</th>\n",
       "      <th>Origin_State</th>\n",
       "      <th>Destination_City</th>\n",
       "      <th>Destination_State</th>\n",
       "      <th>Passengers</th>\n",
       "      <th>Seats</th>\n",
       "      <th>Flights</th>\n",
       "      <th>Distance</th>\n",
       "      <th>Fly_Date</th>\n",
       "      <th>Origin_Population</th>\n",
       "      <th>Destination_Population</th>\n",
       "    </tr>\n",
       "  </thead>\n",
       "  <tbody>\n",
       "    <tr>\n",
       "      <th>0</th>\n",
       "      <td>AberdeenHuron00200807</td>\n",
       "      <td>ABR</td>\n",
       "      <td>HON</td>\n",
       "      <td>Aberdeen</td>\n",
       "      <td>SD</td>\n",
       "      <td>Huron</td>\n",
       "      <td>SD</td>\n",
       "      <td>0</td>\n",
       "      <td>0</td>\n",
       "      <td>1</td>\n",
       "      <td>74</td>\n",
       "      <td>200807</td>\n",
       "      <td>38991</td>\n",
       "      <td>15946</td>\n",
       "    </tr>\n",
       "    <tr>\n",
       "      <th>1</th>\n",
       "      <td>AberdeenHuron2757200611</td>\n",
       "      <td>ABR</td>\n",
       "      <td>HON</td>\n",
       "      <td>Aberdeen</td>\n",
       "      <td>SD</td>\n",
       "      <td>Huron</td>\n",
       "      <td>SD</td>\n",
       "      <td>27</td>\n",
       "      <td>57</td>\n",
       "      <td>3</td>\n",
       "      <td>74</td>\n",
       "      <td>200611</td>\n",
       "      <td>38886</td>\n",
       "      <td>15501</td>\n",
       "    </tr>\n",
       "    <tr>\n",
       "      <th>2</th>\n",
       "      <td>AberdeenHuron3051170200702</td>\n",
       "      <td>ABR</td>\n",
       "      <td>HON</td>\n",
       "      <td>Aberdeen</td>\n",
       "      <td>SD</td>\n",
       "      <td>Huron</td>\n",
       "      <td>SD</td>\n",
       "      <td>305</td>\n",
       "      <td>1170</td>\n",
       "      <td>39</td>\n",
       "      <td>74</td>\n",
       "      <td>200702</td>\n",
       "      <td>39026</td>\n",
       "      <td>15760</td>\n",
       "    </tr>\n",
       "    <tr>\n",
       "      <th>3</th>\n",
       "      <td>AberdeenHuron3076200704</td>\n",
       "      <td>ABR</td>\n",
       "      <td>HON</td>\n",
       "      <td>Aberdeen</td>\n",
       "      <td>SD</td>\n",
       "      <td>Huron</td>\n",
       "      <td>SD</td>\n",
       "      <td>30</td>\n",
       "      <td>76</td>\n",
       "      <td>4</td>\n",
       "      <td>74</td>\n",
       "      <td>200704</td>\n",
       "      <td>39026</td>\n",
       "      <td>15760</td>\n",
       "    </tr>\n",
       "    <tr>\n",
       "      <th>4</th>\n",
       "      <td>AberdeenHuron3121170200706</td>\n",
       "      <td>ABR</td>\n",
       "      <td>HON</td>\n",
       "      <td>Aberdeen</td>\n",
       "      <td>SD</td>\n",
       "      <td>Huron</td>\n",
       "      <td>SD</td>\n",
       "      <td>312</td>\n",
       "      <td>1170</td>\n",
       "      <td>39</td>\n",
       "      <td>74</td>\n",
       "      <td>200706</td>\n",
       "      <td>39026</td>\n",
       "      <td>15760</td>\n",
       "    </tr>\n",
       "  </tbody>\n",
       "</table>\n",
       "</div>"
      ],
      "text/plain": [
       "                           ID Origin Destination Origin_City Origin_State  \\\n",
       "0       AberdeenHuron00200807    ABR         HON    Aberdeen           SD   \n",
       "1     AberdeenHuron2757200611    ABR         HON    Aberdeen           SD   \n",
       "2  AberdeenHuron3051170200702    ABR         HON    Aberdeen           SD   \n",
       "3     AberdeenHuron3076200704    ABR         HON    Aberdeen           SD   \n",
       "4  AberdeenHuron3121170200706    ABR         HON    Aberdeen           SD   \n",
       "\n",
       "  Destination_City Destination_State  Passengers  Seats  Flights  Distance  \\\n",
       "0            Huron                SD           0      0        1        74   \n",
       "1            Huron                SD          27     57        3        74   \n",
       "2            Huron                SD         305   1170       39        74   \n",
       "3            Huron                SD          30     76        4        74   \n",
       "4            Huron                SD         312   1170       39        74   \n",
       "\n",
       "   Fly_Date  Origin_Population  Destination_Population  \n",
       "0    200807              38991                   15946  \n",
       "1    200611              38886                   15501  \n",
       "2    200702              39026                   15760  \n",
       "3    200704              39026                   15760  \n",
       "4    200706              39026                   15760  "
      ]
     },
     "execution_count": 10,
     "metadata": {},
     "output_type": "execute_result"
    }
   ],
   "source": [
    "## csv file\n",
    "\n",
    "flights_df = pd.read_csv('../data/flights_clean.csv')\n",
    "flights_df.head()"
   ]
  },
  {
   "cell_type": "code",
   "execution_count": 11,
   "id": "543d8c59",
   "metadata": {},
   "outputs": [
    {
     "name": "stdout",
     "output_type": "stream",
     "text": [
      "                                ID Origin Destination Origin_City  \\\n",
      "0            AberdeenHuron00200807    ABR         HON    Aberdeen   \n",
      "1          AberdeenHuron2757200611    ABR         HON    Aberdeen   \n",
      "2       AberdeenHuron3051170200702    ABR         HON    Aberdeen   \n",
      "3          AberdeenHuron3076200704    ABR         HON    Aberdeen   \n",
      "4       AberdeenHuron3121170200706    ABR         HON    Aberdeen   \n",
      "...                            ...    ...         ...         ...   \n",
      "581058   ZanesvilleAtlanta00200402    ZZV         PDK  Zanesville   \n",
      "581059   ZanesvilleAtlanta00200409    ZZV         PDK  Zanesville   \n",
      "581060   ZanesvilleDetroit00200310    ZZV         YIP  Zanesville   \n",
      "581061   ZanesvilleDetroit00200312    ZZV         YIP  Zanesville   \n",
      "581062   ZanesvilleDetroit00200704    ZZV         YIP  Zanesville   \n",
      "\n",
      "       Origin_State Destination_City Destination_State  Passengers  Seats  \\\n",
      "0                SD            Huron                SD           0      0   \n",
      "1                SD            Huron                SD          27     57   \n",
      "2                SD            Huron                SD         305   1170   \n",
      "3                SD            Huron                SD          30     76   \n",
      "4                SD            Huron                SD         312   1170   \n",
      "...             ...              ...               ...         ...    ...   \n",
      "581058           OH          Atlanta                GA           0      0   \n",
      "581059           OH          Atlanta                GA           0      0   \n",
      "581060           OH          Detroit                MI           0      0   \n",
      "581061           OH          Detroit                MI           0      0   \n",
      "581062           OH          Detroit                MI           0      0   \n",
      "\n",
      "        Flights  Distance  Fly_Date  Origin_Population  Destination_Population  \n",
      "0             1        74    200807              38991                   15946  \n",
      "1             3        74    200611              38886                   15501  \n",
      "2            39        74    200702              39026                   15760  \n",
      "3             4        74    200704              39026                   15760  \n",
      "4            39        74    200706              39026                   15760  \n",
      "...         ...       ...       ...                ...                     ...  \n",
      "581058        4       439    200402              85137                 4802300  \n",
      "581059        1       439    200409              85137                 4802300  \n",
      "581060        1       180    200310              85079                 8985512  \n",
      "581061        1       180    200312              85079                 8985512  \n",
      "581062        1       180    200704              85190                 8913164  \n",
      "\n",
      "[581063 rows x 14 columns]\n"
     ]
    }
   ],
   "source": [
    "## print dataframe\n",
    "print(flights_df)"
   ]
  },
  {
   "cell_type": "code",
   "execution_count": 12,
   "id": "72eaed6d",
   "metadata": {},
   "outputs": [
    {
     "name": "stdout",
     "output_type": "stream",
     "text": [
      "<class 'pandas.core.frame.DataFrame'>\n",
      "RangeIndex: 581063 entries, 0 to 581062\n",
      "Data columns (total 14 columns):\n",
      " #   Column                  Non-Null Count   Dtype \n",
      "---  ------                  --------------   ----- \n",
      " 0   ID                      581063 non-null  object\n",
      " 1   Origin                  581063 non-null  object\n",
      " 2   Destination             581063 non-null  object\n",
      " 3   Origin_City             581063 non-null  object\n",
      " 4   Origin_State            581063 non-null  object\n",
      " 5   Destination_City        581063 non-null  object\n",
      " 6   Destination_State       581063 non-null  object\n",
      " 7   Passengers              581063 non-null  int64 \n",
      " 8   Seats                   581063 non-null  int64 \n",
      " 9   Flights                 581063 non-null  int64 \n",
      " 10  Distance                581063 non-null  int64 \n",
      " 11  Fly_Date                581063 non-null  int64 \n",
      " 12  Origin_Population       581063 non-null  int64 \n",
      " 13  Destination_Population  581063 non-null  int64 \n",
      "dtypes: int64(7), object(7)\n",
      "memory usage: 62.1+ MB\n"
     ]
    }
   ],
   "source": [
    "## information about all columns\n",
    "flights_df.info()"
   ]
  },
  {
   "cell_type": "code",
   "execution_count": 13,
   "id": "56c9b1e2",
   "metadata": {},
   "outputs": [
    {
     "data": {
      "text/plain": [
       "552290"
      ]
     },
     "execution_count": 13,
     "metadata": {},
     "output_type": "execute_result"
    }
   ],
   "source": [
    "# number of unique values in column ID\n",
    "flights_df['ID'].nunique()"
   ]
  },
  {
   "cell_type": "code",
   "execution_count": 15,
   "id": "f256faf3",
   "metadata": {},
   "outputs": [
    {
     "data": {
      "text/plain": [
       "ID                        0\n",
       "Origin                    0\n",
       "Destination               0\n",
       "Origin_City               0\n",
       "Origin_State              0\n",
       "Destination_City          0\n",
       "Destination_State         0\n",
       "Passengers                0\n",
       "Seats                     0\n",
       "Flights                   0\n",
       "Distance                  0\n",
       "Fly_Date                  0\n",
       "Origin_Population         0\n",
       "Destination_Population    0\n",
       "dtype: int64"
      ]
     },
     "execution_count": 15,
     "metadata": {},
     "output_type": "execute_result"
    }
   ],
   "source": [
    "flights_df.isnull().sum()"
   ]
  },
  {
   "cell_type": "code",
   "execution_count": 18,
   "id": "9430ec9b",
   "metadata": {},
   "outputs": [
    {
     "data": {
      "image/png": "[encoded data removed]",
      "text/plain": [
       "<Figure size 800x600 with 1 Axes>"
      ]
     },
     "metadata": {},
     "output_type": "display_data"
    }
   ],
   "source": [
    "sns.set(style=\"whitegrid\")  # Set the style of the plot\n",
    "plt.figure(figsize=(8, 6))  # Set the figure size\n",
    "\n",
    "# Create the boxplot for the \"Flights\" column\n",
    "sns.boxplot(x=flights_df[\"Flights\"])\n",
    "\n",
    "# Set labels and title\n",
    "plt.xlabel(\"Flights\")\n",
    "plt.title(\"Boxplot of Flights Column\")\n",
    "\n",
    "# Show the plot\n",
    "plt.show()"
   ]
  },
  {
   "cell_type": "markdown",
   "id": "525245c8",
   "metadata": {},
   "source": [
    "#### Regression model"
   ]
  },
  {
   "cell_type": "code",
   "execution_count": 19,
   "id": "a975da2f",
   "metadata": {},
   "outputs": [
    {
     "name": "stdout",
     "output_type": "stream",
     "text": [
      "                                 OLS Regression Results                                \n",
      "=======================================================================================\n",
      "Dep. Variable:             Passengers   R-squared (uncentered):                   0.971\n",
      "Model:                            OLS   Adj. R-squared (uncentered):              0.971\n",
      "Method:                 Least Squares   F-statistic:                          7.861e+06\n",
      "Date:                Mon, 02 Oct 2023   Prob (F-statistic):                        0.00\n",
      "Time:                        16:59:26   Log-Likelihood:                     -3.8542e+06\n",
      "No. Observations:              464850   AIC:                                  7.708e+06\n",
      "Df Residuals:                  464848   BIC:                                  7.708e+06\n",
      "Df Model:                           2                                                  \n",
      "Covariance Type:            nonrobust                                                  \n",
      "==============================================================================\n",
      "                 coef    std err          t      P>|t|      [0.025      0.975]\n",
      "------------------------------------------------------------------------------\n",
      "Seats          0.7805      0.000   1821.496      0.000       0.780       0.781\n",
      "Flights       -6.2437      0.051   -123.280      0.000      -6.343      -6.144\n",
      "==============================================================================\n",
      "Omnibus:                   281566.663   Durbin-Watson:                   2.001\n",
      "Prob(Omnibus):                  0.000   Jarque-Bera (JB):         38537486.570\n",
      "Skew:                          -1.950   Prob(JB):                         0.00\n",
      "Kurtosis:                      47.435   Cond. No.                         274.\n",
      "==============================================================================\n",
      "\n",
      "Notes:\n",
      "[1] R² is computed without centering (uncentered) since the model does not contain a constant.\n",
      "[2] Standard Errors assume that the covariance matrix of the errors is correctly specified.\n"
     ]
    }
   ],
   "source": [
    "# Predicting 'Passengers' as the target variable and using 'Seats' and 'Flights' as features\n",
    "X = flights_df[['Seats', 'Flights']]  # Feature(s)\n",
    "y = flights_df['Passengers']  # Target variable\n",
    "\n",
    "# Split the data into training and testing sets (e.g., 80% train, 20% test)\n",
    "X_train, X_test, y_train, y_test = train_test_split(X, y, test_size=0.2, random_state=42)\n",
    "\n",
    "# Create and fit a linear regression model using statsmodels\n",
    "model = sm.OLS(y_train, X_train).fit()\n",
    "\n",
    "# Print the summary of the model, which includes p-values, adjusted R-squared, and F-statistics\n",
    "print(model.summary())"
   ]
  },
  {
   "cell_type": "markdown",
   "id": "a6e8c626",
   "metadata": {},
   "source": [
    "In this case, both 'Seats' and 'Flights' have very low p-values (close to zero), indicating that they are statistically significant predictors.\n",
    "\n",
    "Overall, the model explains a substantial portion of the variance in 'Passengers,' and both 'Seats' and 'Flights' are statistically significant \n",
    "predictors. However, some aspects of model fit and distribution of residuals may need further investigation, particularly the non-normality of \n",
    "residuals indicated by the Jarque-Bera test."
   ]
  },
  {
   "cell_type": "markdown",
   "id": "73b662b2",
   "metadata": {},
   "source": [
    "#### Classification Model"
   ]
  },
  {
   "cell_type": "code",
   "execution_count": 20,
   "id": "a9ec3f74",
   "metadata": {},
   "outputs": [
    {
     "name": "stdout",
     "output_type": "stream",
     "text": [
      "Accuracy: 0.9332002443788561\n",
      "Confusion Matrix:\n",
      " [[28054  2480]\n",
      " [ 5283 80396]]\n",
      "Classification Report:\n",
      "               precision    recall  f1-score   support\n",
      "\n",
      "           0       0.84      0.92      0.88     30534\n",
      "           1       0.97      0.94      0.95     85679\n",
      "\n",
      "    accuracy                           0.93    116213\n",
      "   macro avg       0.91      0.93      0.92    116213\n",
      "weighted avg       0.94      0.93      0.93    116213\n",
      "\n"
     ]
    }
   ],
   "source": [
    "from sklearn.linear_model import LogisticRegression\n",
    "from sklearn.metrics import accuracy_score, classification_report, confusion_matrix\n",
    "\n",
    "# Define the threshold for binary classification\n",
    "threshold = 100  # You can adjust this threshold based on your problem\n",
    "\n",
    "# Features: 'Seats' and 'Flights'\n",
    "X = flights_df[['Seats', 'Flights']]\n",
    "y = (flights_df['Passengers'] > threshold).astype(int)  # Create a binary target variable\n",
    "\n",
    "# Split the data into training and testing sets (e.g., 80% train, 20% test)\n",
    "X_train, X_test, y_train, y_test = train_test_split(X, y, test_size=0.2, random_state=42)\n",
    "\n",
    "# Choose a classification model (Logistic Regression)\n",
    "model = LogisticRegression()\n",
    "\n",
    "# Train the model on the training data\n",
    "model.fit(X_train, y_train)\n",
    "\n",
    "# Make predictions on the testing data\n",
    "y_pred = model.predict(X_test)\n",
    "\n",
    "# Evaluate the classification model\n",
    "accuracy = accuracy_score(y_test, y_pred)\n",
    "conf_matrix = confusion_matrix(y_test, y_pred)\n",
    "class_report = classification_report(y_test, y_pred)\n",
    "\n",
    "print(\"Accuracy:\", accuracy)\n",
    "print(\"Confusion Matrix:\\n\", conf_matrix)\n",
    "print(\"Classification Report:\\n\", class_report)"
   ]
  },
  {
   "cell_type": "markdown",
   "id": "a66913a9",
   "metadata": {},
   "source": [
    "\n",
    "The classification model has a high accuracy of approximately 93.32%. It performs well in precision, recall, and F1-score for both classes, \n",
    "indicating that it can effectively distinguish between them (0 and 1). The classification report provides a detailed breakdown of the model's \n",
    "performance for each class."
   ]
  }
 ],
 "metadata": {
  "kernelspec": {
   "display_name": "Python 3 (ipykernel)",
   "language": "python",
   "name": "python3"
  },
  "language_info": {
   "codemirror_mode": {
    "name": "ipython",
    "version": 3
   },
   "file_extension": ".py",
   "mimetype": "text/x-python",
   "name": "python",
   "nbconvert_exporter": "python",
   "pygments_lexer": "ipython3",
   "version": "3.11.3"
  }
 },
 "nbformat": 4,
 "nbformat_minor": 5
}
