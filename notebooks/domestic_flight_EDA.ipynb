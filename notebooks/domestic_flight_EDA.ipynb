{
 "cells": [
  {
   "cell_type": "markdown",
   "id": "def812b2-3865-44a8-9ff1-53ee80be541e",
   "metadata": {},
   "source": [
    "# U.S. Domestic Flights from 1990 - 2009\n",
    "Over 3.5 million monthly domestic flight records from 1990 to 2009. The dataset has following parameters to explore:\n",
    "\n",
    "* Origin - String - Three letter airport code of the origin airport\n",
    "* Destination - String - Three letter airport code of the destination airport\n",
    "* Origin City - String - Origin city name\n",
    "* Destination City - String - Destination city name\n",
    "* Passengers - Integer - Number of passengers transported from origin to destination\n",
    "* Seats - Integer - Number of seats available on flights from origin to destination\n",
    "* Flights - Integer - Number of flights between origin and destination (multiple records for one month, many with flights > 1)\n",
    "* Distance - Integer - Distance (to nearest mile) flown between origin and destination\n",
    "* Fly Date - Integer - The date (yyyymm) of flight\n",
    "* Origin Population - Integer - Origin city's population as reported by US Census\n",
    "* Destination Population"
   ]
  },
  {
   "cell_type": "code",
   "execution_count": null,
   "id": "0a7c8810-a7b6-49c6-b535-f6baca89ccf3",
   "metadata": {},
   "outputs": [],
   "source": []
  }
 ],
 "metadata": {
  "kernelspec": {
   "display_name": "Python 3 (ipykernel)",
   "language": "python",
   "name": "python3"
  },
  "language_info": {
   "codemirror_mode": {
    "name": "ipython",
    "version": 3
   },
   "file_extension": ".py",
   "mimetype": "text/x-python",
   "name": "python",
   "nbconvert_exporter": "python",
   "pygments_lexer": "ipython3",
   "version": "3.9.7"
  }
 },
 "nbformat": 4,
 "nbformat_minor": 5
}
